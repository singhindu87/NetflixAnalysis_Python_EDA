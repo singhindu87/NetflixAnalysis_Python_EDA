{
 "cells": [
  {
   "cell_type": "code",
   "execution_count": 1,
   "id": "178e7d90",
   "metadata": {
    "_cell_guid": "b1076dfc-b9ad-4769-8c92-a6c4dae69d19",
    "_uuid": "8f2839f25d086af736a60e9eeb907d3b93b6e0e5",
    "execution": {
     "iopub.execute_input": "2024-10-22T01:39:02.453608Z",
     "iopub.status.busy": "2024-10-22T01:39:02.453190Z",
     "iopub.status.idle": "2024-10-22T01:39:05.184111Z",
     "shell.execute_reply": "2024-10-22T01:39:05.182888Z"
    },
    "papermill": {
     "duration": 2.745456,
     "end_time": "2024-10-22T01:39:05.187196",
     "exception": false,
     "start_time": "2024-10-22T01:39:02.441740",
     "status": "completed"
    },
    "tags": []
   },
   "outputs": [],
   "source": [
    "# This Python 3 environment comes with many helpful analytics libraries installed\n",
    "# It is defined by the kaggle/python Docker image: https://github.com/kaggle/docker-python\n",
    "# For example, here's several helpful packages to load\n",
    "\n",
    "import numpy as np # linear algebra\n",
    "import pandas as pd # data processing, CSV file I/O (e.g. pd.read_csv)\n",
    "import matplotlib.pyplot as py\n",
    "import seaborn as sns\n",
    "\n",
    "# Input data files are available in the read-only \"../input/\" directory\n",
    "# For example, running this (by clicking run or pressing Shift+Enter) will list all files under the input directory\n",
    "\n",
    "import os\n",
    "\n",
    "\n",
    "# You can write up to 20GB to the current directory (/kaggle/working/) that gets preserved as output when you create a version using \"Save & Run All\" \n",
    "# You can also write temporary files to /kaggle/temp/, but they won't be saved outside of the current session\n",
    "\n"
   ]
  },
  {
   "cell_type": "markdown",
   "id": "a046b4bf",
   "metadata": {
    "papermill": {
     "duration": 0.008347,
     "end_time": "2024-10-22T01:39:05.204551",
     "exception": false,
     "start_time": "2024-10-22T01:39:05.196204",
     "status": "completed"
    },
    "tags": []
   },
   "source": [
    "# File Import"
   ]
  },
  {
   "cell_type": "code",
   "execution_count": 2,
   "id": "b20e8d46",
   "metadata": {
    "execution": {
     "iopub.execute_input": "2024-10-22T01:39:05.224868Z",
     "iopub.status.busy": "2024-10-22T01:39:05.224317Z",
     "iopub.status.idle": "2024-10-22T01:39:05.385910Z",
     "shell.execute_reply": "2024-10-22T01:39:05.384234Z"
    },
    "papermill": {
     "duration": 0.174034,
     "end_time": "2024-10-22T01:39:05.388458",
     "exception": false,
     "start_time": "2024-10-22T01:39:05.214424",
     "status": "completed"
    },
    "tags": []
   },
   "outputs": [
    {
     "name": "stdout",
     "output_type": "stream",
     "text": [
      "file is not empty\n",
      "<class 'pandas.core.frame.DataFrame'>\n",
      "RangeIndex: 8807 entries, 0 to 8806\n",
      "Data columns (total 12 columns):\n",
      " #   Column        Non-Null Count  Dtype \n",
      "---  ------        --------------  ----- \n",
      " 0   show_id       8807 non-null   object\n",
      " 1   type          8807 non-null   object\n",
      " 2   title         8807 non-null   object\n",
      " 3   director      6173 non-null   object\n",
      " 4   cast          7982 non-null   object\n",
      " 5   country       7976 non-null   object\n",
      " 6   date_added    8797 non-null   object\n",
      " 7   release_year  8807 non-null   int64 \n",
      " 8   rating        8803 non-null   object\n",
      " 9   duration      8804 non-null   object\n",
      " 10  listed_in     8807 non-null   object\n",
      " 11  description   8807 non-null   object\n",
      "dtypes: int64(1), object(11)\n",
      "memory usage: 825.8+ KB\n"
     ]
    }
   ],
   "source": [
    "#file import and data preprocessing\n",
    "df=pd.read_csv('/kaggle/input/netflix-shows/netflix_titles.csv')\n",
    "if df.empty:\n",
    "    print('data is not available')\n",
    "else:\n",
    "    print('file is not empty')\n",
    "    df.info() #to get information about a Pandas DataFrame\n"
   ]
  },
  {
   "cell_type": "markdown",
   "id": "3e082b16",
   "metadata": {
    "papermill": {
     "duration": 0.008432,
     "end_time": "2024-10-22T01:39:05.405708",
     "exception": false,
     "start_time": "2024-10-22T01:39:05.397276",
     "status": "completed"
    },
    "tags": []
   },
   "source": [
    "# Data Sampling"
   ]
  },
  {
   "cell_type": "code",
   "execution_count": 3,
   "id": "30d1c513",
   "metadata": {
    "execution": {
     "iopub.execute_input": "2024-10-22T01:39:05.425681Z",
     "iopub.status.busy": "2024-10-22T01:39:05.424676Z",
     "iopub.status.idle": "2024-10-22T01:39:05.450643Z",
     "shell.execute_reply": "2024-10-22T01:39:05.449518Z"
    },
    "papermill": {
     "duration": 0.03886,
     "end_time": "2024-10-22T01:39:05.453424",
     "exception": false,
     "start_time": "2024-10-22T01:39:05.414564",
     "status": "completed"
    },
    "tags": []
   },
   "outputs": [
    {
     "data": {
      "text/html": [
       "<div>\n",
       "<style scoped>\n",
       "    .dataframe tbody tr th:only-of-type {\n",
       "        vertical-align: middle;\n",
       "    }\n",
       "\n",
       "    .dataframe tbody tr th {\n",
       "        vertical-align: top;\n",
       "    }\n",
       "\n",
       "    .dataframe thead th {\n",
       "        text-align: right;\n",
       "    }\n",
       "</style>\n",
       "<table border=\"1\" class=\"dataframe\">\n",
       "  <thead>\n",
       "    <tr style=\"text-align: right;\">\n",
       "      <th></th>\n",
       "      <th>show_id</th>\n",
       "      <th>type</th>\n",
       "      <th>title</th>\n",
       "      <th>director</th>\n",
       "      <th>cast</th>\n",
       "      <th>country</th>\n",
       "      <th>date_added</th>\n",
       "      <th>release_year</th>\n",
       "      <th>rating</th>\n",
       "      <th>duration</th>\n",
       "      <th>listed_in</th>\n",
       "      <th>description</th>\n",
       "    </tr>\n",
       "  </thead>\n",
       "  <tbody>\n",
       "    <tr>\n",
       "      <th>392</th>\n",
       "      <td>s393</td>\n",
       "      <td>Movie</td>\n",
       "      <td>Django Unchained</td>\n",
       "      <td>Quentin Tarantino</td>\n",
       "      <td>Jamie Foxx, Christoph Waltz, Leonardo DiCaprio...</td>\n",
       "      <td>United States</td>\n",
       "      <td>July 24, 2021</td>\n",
       "      <td>2012</td>\n",
       "      <td>R</td>\n",
       "      <td>165 min</td>\n",
       "      <td>Action &amp; Adventure, Dramas</td>\n",
       "      <td>Accompanied by a German bounty hunter, a freed...</td>\n",
       "    </tr>\n",
       "    <tr>\n",
       "      <th>3467</th>\n",
       "      <td>s3468</td>\n",
       "      <td>TV Show</td>\n",
       "      <td>Inmates</td>\n",
       "      <td>NaN</td>\n",
       "      <td>Kashyap Kapoor, Ashish Verma, Raghav Raj Kakke...</td>\n",
       "      <td>India</td>\n",
       "      <td>October 1, 2019</td>\n",
       "      <td>2017</td>\n",
       "      <td>TV-MA</td>\n",
       "      <td>1 Season</td>\n",
       "      <td>International TV Shows, TV Comedies</td>\n",
       "      <td>While living under one roof, five close-knit 2...</td>\n",
       "    </tr>\n",
       "    <tr>\n",
       "      <th>2667</th>\n",
       "      <td>s2668</td>\n",
       "      <td>Movie</td>\n",
       "      <td>Babamın Ceketi</td>\n",
       "      <td>Müfit Can Saçıntı</td>\n",
       "      <td>Müfit Can Saçıntı, Mert Turak, Ünal Yeter, Eli...</td>\n",
       "      <td>Turkey</td>\n",
       "      <td>April 17, 2020</td>\n",
       "      <td>2018</td>\n",
       "      <td>TV-MA</td>\n",
       "      <td>101 min</td>\n",
       "      <td>Comedies, International Movies</td>\n",
       "      <td>Facing pressure to marry immediately, an unemp...</td>\n",
       "    </tr>\n",
       "  </tbody>\n",
       "</table>\n",
       "</div>"
      ],
      "text/plain": [
       "     show_id     type             title           director  \\\n",
       "392     s393    Movie  Django Unchained  Quentin Tarantino   \n",
       "3467   s3468  TV Show           Inmates                NaN   \n",
       "2667   s2668    Movie    Babamın Ceketi  Müfit Can Saçıntı   \n",
       "\n",
       "                                                   cast        country  \\\n",
       "392   Jamie Foxx, Christoph Waltz, Leonardo DiCaprio...  United States   \n",
       "3467  Kashyap Kapoor, Ashish Verma, Raghav Raj Kakke...          India   \n",
       "2667  Müfit Can Saçıntı, Mert Turak, Ünal Yeter, Eli...         Turkey   \n",
       "\n",
       "           date_added  release_year rating  duration  \\\n",
       "392     July 24, 2021          2012      R   165 min   \n",
       "3467  October 1, 2019          2017  TV-MA  1 Season   \n",
       "2667   April 17, 2020          2018  TV-MA   101 min   \n",
       "\n",
       "                                listed_in  \\\n",
       "392            Action & Adventure, Dramas   \n",
       "3467  International TV Shows, TV Comedies   \n",
       "2667       Comedies, International Movies   \n",
       "\n",
       "                                            description  \n",
       "392   Accompanied by a German bounty hunter, a freed...  \n",
       "3467  While living under one roof, five close-knit 2...  \n",
       "2667  Facing pressure to marry immediately, an unemp...  "
      ]
     },
     "execution_count": 3,
     "metadata": {},
     "output_type": "execute_result"
    }
   ],
   "source": [
    "#check sample data\n",
    "df.sample(3)\n"
   ]
  },
  {
   "cell_type": "code",
   "execution_count": 4,
   "id": "0b1241b1",
   "metadata": {
    "execution": {
     "iopub.execute_input": "2024-10-22T01:39:05.473984Z",
     "iopub.status.busy": "2024-10-22T01:39:05.473541Z",
     "iopub.status.idle": "2024-10-22T01:39:05.490495Z",
     "shell.execute_reply": "2024-10-22T01:39:05.489333Z"
    },
    "papermill": {
     "duration": 0.029997,
     "end_time": "2024-10-22T01:39:05.492958",
     "exception": false,
     "start_time": "2024-10-22T01:39:05.462961",
     "status": "completed"
    },
    "tags": []
   },
   "outputs": [
    {
     "data": {
      "text/html": [
       "<div>\n",
       "<style scoped>\n",
       "    .dataframe tbody tr th:only-of-type {\n",
       "        vertical-align: middle;\n",
       "    }\n",
       "\n",
       "    .dataframe tbody tr th {\n",
       "        vertical-align: top;\n",
       "    }\n",
       "\n",
       "    .dataframe thead th {\n",
       "        text-align: right;\n",
       "    }\n",
       "</style>\n",
       "<table border=\"1\" class=\"dataframe\">\n",
       "  <thead>\n",
       "    <tr style=\"text-align: right;\">\n",
       "      <th></th>\n",
       "      <th>show_id</th>\n",
       "      <th>type</th>\n",
       "      <th>title</th>\n",
       "      <th>director</th>\n",
       "      <th>cast</th>\n",
       "      <th>country</th>\n",
       "      <th>date_added</th>\n",
       "      <th>release_year</th>\n",
       "      <th>rating</th>\n",
       "      <th>duration</th>\n",
       "      <th>listed_in</th>\n",
       "      <th>description</th>\n",
       "    </tr>\n",
       "  </thead>\n",
       "  <tbody>\n",
       "    <tr>\n",
       "      <th>0</th>\n",
       "      <td>s1</td>\n",
       "      <td>Movie</td>\n",
       "      <td>Dick Johnson Is Dead</td>\n",
       "      <td>Kirsten Johnson</td>\n",
       "      <td>NaN</td>\n",
       "      <td>United States</td>\n",
       "      <td>September 25, 2021</td>\n",
       "      <td>2020</td>\n",
       "      <td>PG-13</td>\n",
       "      <td>90 min</td>\n",
       "      <td>Documentaries</td>\n",
       "      <td>As her father nears the end of his life, filmm...</td>\n",
       "    </tr>\n",
       "    <tr>\n",
       "      <th>1</th>\n",
       "      <td>s2</td>\n",
       "      <td>TV Show</td>\n",
       "      <td>Blood &amp; Water</td>\n",
       "      <td>NaN</td>\n",
       "      <td>Ama Qamata, Khosi Ngema, Gail Mabalane, Thaban...</td>\n",
       "      <td>South Africa</td>\n",
       "      <td>September 24, 2021</td>\n",
       "      <td>2021</td>\n",
       "      <td>TV-MA</td>\n",
       "      <td>2 Seasons</td>\n",
       "      <td>International TV Shows, TV Dramas, TV Mysteries</td>\n",
       "      <td>After crossing paths at a party, a Cape Town t...</td>\n",
       "    </tr>\n",
       "    <tr>\n",
       "      <th>2</th>\n",
       "      <td>s3</td>\n",
       "      <td>TV Show</td>\n",
       "      <td>Ganglands</td>\n",
       "      <td>Julien Leclercq</td>\n",
       "      <td>Sami Bouajila, Tracy Gotoas, Samuel Jouy, Nabi...</td>\n",
       "      <td>NaN</td>\n",
       "      <td>September 24, 2021</td>\n",
       "      <td>2021</td>\n",
       "      <td>TV-MA</td>\n",
       "      <td>1 Season</td>\n",
       "      <td>Crime TV Shows, International TV Shows, TV Act...</td>\n",
       "      <td>To protect his family from a powerful drug lor...</td>\n",
       "    </tr>\n",
       "    <tr>\n",
       "      <th>3</th>\n",
       "      <td>s4</td>\n",
       "      <td>TV Show</td>\n",
       "      <td>Jailbirds New Orleans</td>\n",
       "      <td>NaN</td>\n",
       "      <td>NaN</td>\n",
       "      <td>NaN</td>\n",
       "      <td>September 24, 2021</td>\n",
       "      <td>2021</td>\n",
       "      <td>TV-MA</td>\n",
       "      <td>1 Season</td>\n",
       "      <td>Docuseries, Reality TV</td>\n",
       "      <td>Feuds, flirtations and toilet talk go down amo...</td>\n",
       "    </tr>\n",
       "    <tr>\n",
       "      <th>4</th>\n",
       "      <td>s5</td>\n",
       "      <td>TV Show</td>\n",
       "      <td>Kota Factory</td>\n",
       "      <td>NaN</td>\n",
       "      <td>Mayur More, Jitendra Kumar, Ranjan Raj, Alam K...</td>\n",
       "      <td>India</td>\n",
       "      <td>September 24, 2021</td>\n",
       "      <td>2021</td>\n",
       "      <td>TV-MA</td>\n",
       "      <td>2 Seasons</td>\n",
       "      <td>International TV Shows, Romantic TV Shows, TV ...</td>\n",
       "      <td>In a city of coaching centers known to train I...</td>\n",
       "    </tr>\n",
       "  </tbody>\n",
       "</table>\n",
       "</div>"
      ],
      "text/plain": [
       "  show_id     type                  title         director  \\\n",
       "0      s1    Movie   Dick Johnson Is Dead  Kirsten Johnson   \n",
       "1      s2  TV Show          Blood & Water              NaN   \n",
       "2      s3  TV Show              Ganglands  Julien Leclercq   \n",
       "3      s4  TV Show  Jailbirds New Orleans              NaN   \n",
       "4      s5  TV Show           Kota Factory              NaN   \n",
       "\n",
       "                                                cast        country  \\\n",
       "0                                                NaN  United States   \n",
       "1  Ama Qamata, Khosi Ngema, Gail Mabalane, Thaban...   South Africa   \n",
       "2  Sami Bouajila, Tracy Gotoas, Samuel Jouy, Nabi...            NaN   \n",
       "3                                                NaN            NaN   \n",
       "4  Mayur More, Jitendra Kumar, Ranjan Raj, Alam K...          India   \n",
       "\n",
       "           date_added  release_year rating   duration  \\\n",
       "0  September 25, 2021          2020  PG-13     90 min   \n",
       "1  September 24, 2021          2021  TV-MA  2 Seasons   \n",
       "2  September 24, 2021          2021  TV-MA   1 Season   \n",
       "3  September 24, 2021          2021  TV-MA   1 Season   \n",
       "4  September 24, 2021          2021  TV-MA  2 Seasons   \n",
       "\n",
       "                                           listed_in  \\\n",
       "0                                      Documentaries   \n",
       "1    International TV Shows, TV Dramas, TV Mysteries   \n",
       "2  Crime TV Shows, International TV Shows, TV Act...   \n",
       "3                             Docuseries, Reality TV   \n",
       "4  International TV Shows, Romantic TV Shows, TV ...   \n",
       "\n",
       "                                         description  \n",
       "0  As her father nears the end of his life, filmm...  \n",
       "1  After crossing paths at a party, a Cape Town t...  \n",
       "2  To protect his family from a powerful drug lor...  \n",
       "3  Feuds, flirtations and toilet talk go down amo...  \n",
       "4  In a city of coaching centers known to train I...  "
      ]
     },
     "execution_count": 4,
     "metadata": {},
     "output_type": "execute_result"
    }
   ],
   "source": [
    "#check dataframe head \n",
    "df.head()"
   ]
  },
  {
   "cell_type": "code",
   "execution_count": 5,
   "id": "863b3ecb",
   "metadata": {
    "execution": {
     "iopub.execute_input": "2024-10-22T01:39:05.513421Z",
     "iopub.status.busy": "2024-10-22T01:39:05.513019Z",
     "iopub.status.idle": "2024-10-22T01:39:05.527966Z",
     "shell.execute_reply": "2024-10-22T01:39:05.526845Z"
    },
    "papermill": {
     "duration": 0.027543,
     "end_time": "2024-10-22T01:39:05.530024",
     "exception": false,
     "start_time": "2024-10-22T01:39:05.502481",
     "status": "completed"
    },
    "tags": []
   },
   "outputs": [
    {
     "data": {
      "text/html": [
       "<div>\n",
       "<style scoped>\n",
       "    .dataframe tbody tr th:only-of-type {\n",
       "        vertical-align: middle;\n",
       "    }\n",
       "\n",
       "    .dataframe tbody tr th {\n",
       "        vertical-align: top;\n",
       "    }\n",
       "\n",
       "    .dataframe thead th {\n",
       "        text-align: right;\n",
       "    }\n",
       "</style>\n",
       "<table border=\"1\" class=\"dataframe\">\n",
       "  <thead>\n",
       "    <tr style=\"text-align: right;\">\n",
       "      <th></th>\n",
       "      <th>show_id</th>\n",
       "      <th>type</th>\n",
       "      <th>title</th>\n",
       "      <th>director</th>\n",
       "      <th>cast</th>\n",
       "      <th>country</th>\n",
       "      <th>date_added</th>\n",
       "      <th>release_year</th>\n",
       "      <th>rating</th>\n",
       "      <th>duration</th>\n",
       "      <th>listed_in</th>\n",
       "      <th>description</th>\n",
       "    </tr>\n",
       "  </thead>\n",
       "  <tbody>\n",
       "    <tr>\n",
       "      <th>8804</th>\n",
       "      <td>s8805</td>\n",
       "      <td>Movie</td>\n",
       "      <td>Zombieland</td>\n",
       "      <td>Ruben Fleischer</td>\n",
       "      <td>Jesse Eisenberg, Woody Harrelson, Emma Stone, ...</td>\n",
       "      <td>United States</td>\n",
       "      <td>November 1, 2019</td>\n",
       "      <td>2009</td>\n",
       "      <td>R</td>\n",
       "      <td>88 min</td>\n",
       "      <td>Comedies, Horror Movies</td>\n",
       "      <td>Looking to survive in a world taken over by zo...</td>\n",
       "    </tr>\n",
       "    <tr>\n",
       "      <th>8805</th>\n",
       "      <td>s8806</td>\n",
       "      <td>Movie</td>\n",
       "      <td>Zoom</td>\n",
       "      <td>Peter Hewitt</td>\n",
       "      <td>Tim Allen, Courteney Cox, Chevy Chase, Kate Ma...</td>\n",
       "      <td>United States</td>\n",
       "      <td>January 11, 2020</td>\n",
       "      <td>2006</td>\n",
       "      <td>PG</td>\n",
       "      <td>88 min</td>\n",
       "      <td>Children &amp; Family Movies, Comedies</td>\n",
       "      <td>Dragged from civilian life, a former superhero...</td>\n",
       "    </tr>\n",
       "    <tr>\n",
       "      <th>8806</th>\n",
       "      <td>s8807</td>\n",
       "      <td>Movie</td>\n",
       "      <td>Zubaan</td>\n",
       "      <td>Mozez Singh</td>\n",
       "      <td>Vicky Kaushal, Sarah-Jane Dias, Raaghav Chanan...</td>\n",
       "      <td>India</td>\n",
       "      <td>March 2, 2019</td>\n",
       "      <td>2015</td>\n",
       "      <td>TV-14</td>\n",
       "      <td>111 min</td>\n",
       "      <td>Dramas, International Movies, Music &amp; Musicals</td>\n",
       "      <td>A scrappy but poor boy worms his way into a ty...</td>\n",
       "    </tr>\n",
       "  </tbody>\n",
       "</table>\n",
       "</div>"
      ],
      "text/plain": [
       "     show_id   type       title         director  \\\n",
       "8804   s8805  Movie  Zombieland  Ruben Fleischer   \n",
       "8805   s8806  Movie        Zoom     Peter Hewitt   \n",
       "8806   s8807  Movie      Zubaan      Mozez Singh   \n",
       "\n",
       "                                                   cast        country  \\\n",
       "8804  Jesse Eisenberg, Woody Harrelson, Emma Stone, ...  United States   \n",
       "8805  Tim Allen, Courteney Cox, Chevy Chase, Kate Ma...  United States   \n",
       "8806  Vicky Kaushal, Sarah-Jane Dias, Raaghav Chanan...          India   \n",
       "\n",
       "            date_added  release_year rating duration  \\\n",
       "8804  November 1, 2019          2009      R   88 min   \n",
       "8805  January 11, 2020          2006     PG   88 min   \n",
       "8806     March 2, 2019          2015  TV-14  111 min   \n",
       "\n",
       "                                           listed_in  \\\n",
       "8804                         Comedies, Horror Movies   \n",
       "8805              Children & Family Movies, Comedies   \n",
       "8806  Dramas, International Movies, Music & Musicals   \n",
       "\n",
       "                                            description  \n",
       "8804  Looking to survive in a world taken over by zo...  \n",
       "8805  Dragged from civilian life, a former superhero...  \n",
       "8806  A scrappy but poor boy worms his way into a ty...  "
      ]
     },
     "execution_count": 5,
     "metadata": {},
     "output_type": "execute_result"
    }
   ],
   "source": [
    "#check dataframe tail\n",
    "df.tail(3)"
   ]
  },
  {
   "cell_type": "markdown",
   "id": "fd6ed23a",
   "metadata": {
    "papermill": {
     "duration": 0.009422,
     "end_time": "2024-10-22T01:39:05.549161",
     "exception": false,
     "start_time": "2024-10-22T01:39:05.539739",
     "status": "completed"
    },
    "tags": []
   },
   "source": [
    "# Data Profiling"
   ]
  },
  {
   "cell_type": "code",
   "execution_count": 6,
   "id": "9006bc58",
   "metadata": {
    "execution": {
     "iopub.execute_input": "2024-10-22T01:39:05.570973Z",
     "iopub.status.busy": "2024-10-22T01:39:05.569817Z",
     "iopub.status.idle": "2024-10-22T01:39:05.577263Z",
     "shell.execute_reply": "2024-10-22T01:39:05.576059Z"
    },
    "papermill": {
     "duration": 0.020521,
     "end_time": "2024-10-22T01:39:05.579550",
     "exception": false,
     "start_time": "2024-10-22T01:39:05.559029",
     "status": "completed"
    },
    "tags": []
   },
   "outputs": [
    {
     "data": {
      "text/plain": [
       "(8807, 12)"
      ]
     },
     "execution_count": 6,
     "metadata": {},
     "output_type": "execute_result"
    }
   ],
   "source": [
    "#read data\n",
    "#show datacard\n",
    "df.shape"
   ]
  },
  {
   "cell_type": "code",
   "execution_count": 7,
   "id": "2512eec5",
   "metadata": {
    "execution": {
     "iopub.execute_input": "2024-10-22T01:39:05.601574Z",
     "iopub.status.busy": "2024-10-22T01:39:05.601167Z",
     "iopub.status.idle": "2024-10-22T01:39:05.608393Z",
     "shell.execute_reply": "2024-10-22T01:39:05.607081Z"
    },
    "papermill": {
     "duration": 0.021163,
     "end_time": "2024-10-22T01:39:05.610950",
     "exception": false,
     "start_time": "2024-10-22T01:39:05.589787",
     "status": "completed"
    },
    "tags": []
   },
   "outputs": [
    {
     "data": {
      "text/plain": [
       "Index(['show_id', 'type', 'title', 'director', 'cast', 'country', 'date_added',\n",
       "       'release_year', 'rating', 'duration', 'listed_in', 'description'],\n",
       "      dtype='object')"
      ]
     },
     "execution_count": 7,
     "metadata": {},
     "output_type": "execute_result"
    }
   ],
   "source": [
    "#get column names\n",
    "df.columns"
   ]
  },
  {
   "cell_type": "code",
   "execution_count": 8,
   "id": "a4be622f",
   "metadata": {
    "execution": {
     "iopub.execute_input": "2024-10-22T01:39:05.633578Z",
     "iopub.status.busy": "2024-10-22T01:39:05.632651Z",
     "iopub.status.idle": "2024-10-22T01:39:05.639353Z",
     "shell.execute_reply": "2024-10-22T01:39:05.638282Z"
    },
    "papermill": {
     "duration": 0.020685,
     "end_time": "2024-10-22T01:39:05.641580",
     "exception": false,
     "start_time": "2024-10-22T01:39:05.620895",
     "status": "completed"
    },
    "tags": []
   },
   "outputs": [
    {
     "data": {
      "text/plain": [
       "105684"
      ]
     },
     "execution_count": 8,
     "metadata": {},
     "output_type": "execute_result"
    }
   ],
   "source": [
    "#no of elements in the dataframe\n",
    "df.size "
   ]
  },
  {
   "cell_type": "code",
   "execution_count": 9,
   "id": "10b13775",
   "metadata": {
    "execution": {
     "iopub.execute_input": "2024-10-22T01:39:05.663327Z",
     "iopub.status.busy": "2024-10-22T01:39:05.662959Z",
     "iopub.status.idle": "2024-10-22T01:39:05.670367Z",
     "shell.execute_reply": "2024-10-22T01:39:05.669208Z"
    },
    "papermill": {
     "duration": 0.021141,
     "end_time": "2024-10-22T01:39:05.672889",
     "exception": false,
     "start_time": "2024-10-22T01:39:05.651748",
     "status": "completed"
    },
    "tags": []
   },
   "outputs": [
    {
     "data": {
      "text/plain": [
       "['show_id',\n",
       " 'type',\n",
       " 'title',\n",
       " 'director',\n",
       " 'cast',\n",
       " 'country',\n",
       " 'date_added',\n",
       " 'release_year',\n",
       " 'rating',\n",
       " 'duration',\n",
       " 'listed_in',\n",
       " 'description']"
      ]
     },
     "execution_count": 9,
     "metadata": {},
     "output_type": "execute_result"
    }
   ],
   "source": [
    "#get column names in list\n",
    "df.columns.tolist()"
   ]
  },
  {
   "cell_type": "code",
   "execution_count": 10,
   "id": "fe7ade85",
   "metadata": {
    "execution": {
     "iopub.execute_input": "2024-10-22T01:39:05.694917Z",
     "iopub.status.busy": "2024-10-22T01:39:05.694370Z",
     "iopub.status.idle": "2024-10-22T01:39:05.702954Z",
     "shell.execute_reply": "2024-10-22T01:39:05.701838Z"
    },
    "papermill": {
     "duration": 0.022083,
     "end_time": "2024-10-22T01:39:05.705114",
     "exception": false,
     "start_time": "2024-10-22T01:39:05.683031",
     "status": "completed"
    },
    "tags": []
   },
   "outputs": [
    {
     "data": {
      "text/plain": [
       "show_id         object\n",
       "type            object\n",
       "title           object\n",
       "director        object\n",
       "cast            object\n",
       "country         object\n",
       "date_added      object\n",
       "release_year     int64\n",
       "rating          object\n",
       "duration        object\n",
       "listed_in       object\n",
       "description     object\n",
       "dtype: object"
      ]
     },
     "execution_count": 10,
     "metadata": {},
     "output_type": "execute_result"
    }
   ],
   "source": [
    "#datatype of each column in a DataFrame\n",
    "df.dtypes"
   ]
  },
  {
   "cell_type": "markdown",
   "id": "a0442e30",
   "metadata": {
    "papermill": {
     "duration": 0.009734,
     "end_time": "2024-10-22T01:39:05.725051",
     "exception": false,
     "start_time": "2024-10-22T01:39:05.715317",
     "status": "completed"
    },
    "tags": []
   },
   "source": [
    "*  **Find duplicate rows in the dataframe**"
   ]
  },
  {
   "cell_type": "code",
   "execution_count": 11,
   "id": "e84ae139",
   "metadata": {
    "execution": {
     "iopub.execute_input": "2024-10-22T01:39:05.747188Z",
     "iopub.status.busy": "2024-10-22T01:39:05.746739Z",
     "iopub.status.idle": "2024-10-22T01:39:05.783561Z",
     "shell.execute_reply": "2024-10-22T01:39:05.782491Z"
    },
    "papermill": {
     "duration": 0.050625,
     "end_time": "2024-10-22T01:39:05.785844",
     "exception": false,
     "start_time": "2024-10-22T01:39:05.735219",
     "status": "completed"
    },
    "tags": []
   },
   "outputs": [
    {
     "data": {
      "text/html": [
       "<div>\n",
       "<style scoped>\n",
       "    .dataframe tbody tr th:only-of-type {\n",
       "        vertical-align: middle;\n",
       "    }\n",
       "\n",
       "    .dataframe tbody tr th {\n",
       "        vertical-align: top;\n",
       "    }\n",
       "\n",
       "    .dataframe thead th {\n",
       "        text-align: right;\n",
       "    }\n",
       "</style>\n",
       "<table border=\"1\" class=\"dataframe\">\n",
       "  <thead>\n",
       "    <tr style=\"text-align: right;\">\n",
       "      <th></th>\n",
       "      <th>show_id</th>\n",
       "      <th>type</th>\n",
       "      <th>title</th>\n",
       "      <th>director</th>\n",
       "      <th>cast</th>\n",
       "      <th>country</th>\n",
       "      <th>date_added</th>\n",
       "      <th>release_year</th>\n",
       "      <th>rating</th>\n",
       "      <th>duration</th>\n",
       "      <th>listed_in</th>\n",
       "      <th>description</th>\n",
       "    </tr>\n",
       "  </thead>\n",
       "  <tbody>\n",
       "  </tbody>\n",
       "</table>\n",
       "</div>"
      ],
      "text/plain": [
       "Empty DataFrame\n",
       "Columns: [show_id, type, title, director, cast, country, date_added, release_year, rating, duration, listed_in, description]\n",
       "Index: []"
      ]
     },
     "execution_count": 11,
     "metadata": {},
     "output_type": "execute_result"
    }
   ],
   "source": [
    "df[df[df.columns.tolist()].duplicated()==True]"
   ]
  },
  {
   "cell_type": "markdown",
   "id": "2a5295f9",
   "metadata": {
    "papermill": {
     "duration": 0.010869,
     "end_time": "2024-10-22T01:39:05.807070",
     "exception": false,
     "start_time": "2024-10-22T01:39:05.796201",
     "status": "completed"
    },
    "tags": []
   },
   "source": [
    "*  **Find duplicate rows in the dataframe based on show_id**"
   ]
  },
  {
   "cell_type": "code",
   "execution_count": 12,
   "id": "8989532b",
   "metadata": {
    "execution": {
     "iopub.execute_input": "2024-10-22T01:39:05.829721Z",
     "iopub.status.busy": "2024-10-22T01:39:05.829286Z",
     "iopub.status.idle": "2024-10-22T01:39:05.855007Z",
     "shell.execute_reply": "2024-10-22T01:39:05.853631Z"
    },
    "papermill": {
     "duration": 0.039781,
     "end_time": "2024-10-22T01:39:05.857490",
     "exception": false,
     "start_time": "2024-10-22T01:39:05.817709",
     "status": "completed"
    },
    "tags": []
   },
   "outputs": [
    {
     "data": {
      "text/plain": [
       "0       False\n",
       "1       False\n",
       "2       False\n",
       "3       False\n",
       "4       False\n",
       "        ...  \n",
       "8802    False\n",
       "8803    False\n",
       "8804    False\n",
       "8805    False\n",
       "8806    False\n",
       "Length: 8807, dtype: bool"
      ]
     },
     "execution_count": 12,
     "metadata": {},
     "output_type": "execute_result"
    }
   ],
   "source": [
    "df.duplicated()"
   ]
  },
  {
   "cell_type": "code",
   "execution_count": 13,
   "id": "fd97573b",
   "metadata": {
    "execution": {
     "iopub.execute_input": "2024-10-22T01:39:05.880526Z",
     "iopub.status.busy": "2024-10-22T01:39:05.880120Z",
     "iopub.status.idle": "2024-10-22T01:39:05.905135Z",
     "shell.execute_reply": "2024-10-22T01:39:05.904099Z"
    },
    "papermill": {
     "duration": 0.03961,
     "end_time": "2024-10-22T01:39:05.907812",
     "exception": false,
     "start_time": "2024-10-22T01:39:05.868202",
     "status": "completed"
    },
    "tags": []
   },
   "outputs": [
    {
     "data": {
      "text/html": [
       "<div>\n",
       "<style scoped>\n",
       "    .dataframe tbody tr th:only-of-type {\n",
       "        vertical-align: middle;\n",
       "    }\n",
       "\n",
       "    .dataframe tbody tr th {\n",
       "        vertical-align: top;\n",
       "    }\n",
       "\n",
       "    .dataframe thead th {\n",
       "        text-align: right;\n",
       "    }\n",
       "</style>\n",
       "<table border=\"1\" class=\"dataframe\">\n",
       "  <thead>\n",
       "    <tr style=\"text-align: right;\">\n",
       "      <th></th>\n",
       "      <th>show_id</th>\n",
       "      <th>type</th>\n",
       "      <th>title</th>\n",
       "      <th>director</th>\n",
       "      <th>cast</th>\n",
       "      <th>country</th>\n",
       "      <th>date_added</th>\n",
       "      <th>release_year</th>\n",
       "      <th>rating</th>\n",
       "      <th>duration</th>\n",
       "      <th>listed_in</th>\n",
       "      <th>description</th>\n",
       "    </tr>\n",
       "  </thead>\n",
       "  <tbody>\n",
       "    <tr>\n",
       "      <th>10</th>\n",
       "      <td>s11</td>\n",
       "      <td>TV Show</td>\n",
       "      <td>Vendetta: Truth, Lies and The Mafia</td>\n",
       "      <td>NaN</td>\n",
       "      <td>NaN</td>\n",
       "      <td>NaN</td>\n",
       "      <td>September 24, 2021</td>\n",
       "      <td>2021</td>\n",
       "      <td>TV-MA</td>\n",
       "      <td>1 Season</td>\n",
       "      <td>Crime TV Shows, Docuseries, International TV S...</td>\n",
       "      <td>Sicily boasts a bold \"Anti-Mafia\" coalition. B...</td>\n",
       "    </tr>\n",
       "    <tr>\n",
       "      <th>14</th>\n",
       "      <td>s15</td>\n",
       "      <td>TV Show</td>\n",
       "      <td>Crime Stories: India Detectives</td>\n",
       "      <td>NaN</td>\n",
       "      <td>NaN</td>\n",
       "      <td>NaN</td>\n",
       "      <td>September 22, 2021</td>\n",
       "      <td>2021</td>\n",
       "      <td>TV-MA</td>\n",
       "      <td>1 Season</td>\n",
       "      <td>British TV Shows, Crime TV Shows, Docuseries</td>\n",
       "      <td>Cameras following Bengaluru police on the job ...</td>\n",
       "    </tr>\n",
       "    <tr>\n",
       "      <th>66</th>\n",
       "      <td>s67</td>\n",
       "      <td>TV Show</td>\n",
       "      <td>Raja Rasoi Aur Anya Kahaniyan</td>\n",
       "      <td>NaN</td>\n",
       "      <td>NaN</td>\n",
       "      <td>India</td>\n",
       "      <td>September 15, 2021</td>\n",
       "      <td>2014</td>\n",
       "      <td>TV-G</td>\n",
       "      <td>1 Season</td>\n",
       "      <td>Docuseries, International TV Shows</td>\n",
       "      <td>Explore the history and flavors of regional In...</td>\n",
       "    </tr>\n",
       "    <tr>\n",
       "      <th>69</th>\n",
       "      <td>s70</td>\n",
       "      <td>TV Show</td>\n",
       "      <td>Stories by Rabindranath Tagore</td>\n",
       "      <td>NaN</td>\n",
       "      <td>NaN</td>\n",
       "      <td>India</td>\n",
       "      <td>September 15, 2021</td>\n",
       "      <td>2015</td>\n",
       "      <td>TV-PG</td>\n",
       "      <td>1 Season</td>\n",
       "      <td>International TV Shows, TV Dramas</td>\n",
       "      <td>The writings of Nobel Prize winner Rabindranat...</td>\n",
       "    </tr>\n",
       "    <tr>\n",
       "      <th>74</th>\n",
       "      <td>s75</td>\n",
       "      <td>TV Show</td>\n",
       "      <td>The World's Most Amazing Vacation Rentals</td>\n",
       "      <td>NaN</td>\n",
       "      <td>NaN</td>\n",
       "      <td>NaN</td>\n",
       "      <td>September 14, 2021</td>\n",
       "      <td>2021</td>\n",
       "      <td>TV-PG</td>\n",
       "      <td>2 Seasons</td>\n",
       "      <td>Reality TV</td>\n",
       "      <td>With an eye for every budget, three travelers ...</td>\n",
       "    </tr>\n",
       "    <tr>\n",
       "      <th>...</th>\n",
       "      <td>...</td>\n",
       "      <td>...</td>\n",
       "      <td>...</td>\n",
       "      <td>...</td>\n",
       "      <td>...</td>\n",
       "      <td>...</td>\n",
       "      <td>...</td>\n",
       "      <td>...</td>\n",
       "      <td>...</td>\n",
       "      <td>...</td>\n",
       "      <td>...</td>\n",
       "      <td>...</td>\n",
       "    </tr>\n",
       "    <tr>\n",
       "      <th>8755</th>\n",
       "      <td>s8756</td>\n",
       "      <td>TV Show</td>\n",
       "      <td>Women Behind Bars</td>\n",
       "      <td>NaN</td>\n",
       "      <td>NaN</td>\n",
       "      <td>United States</td>\n",
       "      <td>November 1, 2016</td>\n",
       "      <td>2010</td>\n",
       "      <td>TV-14</td>\n",
       "      <td>3 Seasons</td>\n",
       "      <td>Crime TV Shows, Docuseries</td>\n",
       "      <td>This reality series recounts true stories of w...</td>\n",
       "    </tr>\n",
       "    <tr>\n",
       "      <th>8756</th>\n",
       "      <td>s8757</td>\n",
       "      <td>Movie</td>\n",
       "      <td>Woodstock</td>\n",
       "      <td>Barak Goodman</td>\n",
       "      <td>NaN</td>\n",
       "      <td>United States</td>\n",
       "      <td>August 13, 2019</td>\n",
       "      <td>2019</td>\n",
       "      <td>TV-MA</td>\n",
       "      <td>97 min</td>\n",
       "      <td>Documentaries, Music &amp; Musicals</td>\n",
       "      <td>For the 50th anniversary of the legendary Wood...</td>\n",
       "    </tr>\n",
       "    <tr>\n",
       "      <th>8763</th>\n",
       "      <td>s8764</td>\n",
       "      <td>Movie</td>\n",
       "      <td>WWII: Report from the Aleutians</td>\n",
       "      <td>John Huston</td>\n",
       "      <td>NaN</td>\n",
       "      <td>United States</td>\n",
       "      <td>March 31, 2017</td>\n",
       "      <td>1943</td>\n",
       "      <td>TV-PG</td>\n",
       "      <td>45 min</td>\n",
       "      <td>Documentaries</td>\n",
       "      <td>Filmmaker John Huston narrates this Oscar-nomi...</td>\n",
       "    </tr>\n",
       "    <tr>\n",
       "      <th>8784</th>\n",
       "      <td>s8785</td>\n",
       "      <td>Movie</td>\n",
       "      <td>Yoko and His Friends</td>\n",
       "      <td>NaN</td>\n",
       "      <td>Eileen Stevens, Alyson Leigh Rosenfeld, Sarah ...</td>\n",
       "      <td>Russia, Spain</td>\n",
       "      <td>June 23, 2018</td>\n",
       "      <td>2015</td>\n",
       "      <td>TV-Y</td>\n",
       "      <td>78 min</td>\n",
       "      <td>Children &amp; Family Movies</td>\n",
       "      <td>Vik meets new friends in a new city, where the...</td>\n",
       "    </tr>\n",
       "    <tr>\n",
       "      <th>8803</th>\n",
       "      <td>s8804</td>\n",
       "      <td>TV Show</td>\n",
       "      <td>Zombie Dumb</td>\n",
       "      <td>NaN</td>\n",
       "      <td>NaN</td>\n",
       "      <td>NaN</td>\n",
       "      <td>July 1, 2019</td>\n",
       "      <td>2018</td>\n",
       "      <td>TV-Y7</td>\n",
       "      <td>2 Seasons</td>\n",
       "      <td>Kids' TV, Korean TV Shows, TV Comedies</td>\n",
       "      <td>While living alone in a spooky town, a young g...</td>\n",
       "    </tr>\n",
       "  </tbody>\n",
       "</table>\n",
       "<p>548 rows × 12 columns</p>\n",
       "</div>"
      ],
      "text/plain": [
       "     show_id     type                                      title  \\\n",
       "10       s11  TV Show        Vendetta: Truth, Lies and The Mafia   \n",
       "14       s15  TV Show            Crime Stories: India Detectives   \n",
       "66       s67  TV Show              Raja Rasoi Aur Anya Kahaniyan   \n",
       "69       s70  TV Show             Stories by Rabindranath Tagore   \n",
       "74       s75  TV Show  The World's Most Amazing Vacation Rentals   \n",
       "...      ...      ...                                        ...   \n",
       "8755   s8756  TV Show                          Women Behind Bars   \n",
       "8756   s8757    Movie                                  Woodstock   \n",
       "8763   s8764    Movie            WWII: Report from the Aleutians   \n",
       "8784   s8785    Movie                       Yoko and His Friends   \n",
       "8803   s8804  TV Show                                Zombie Dumb   \n",
       "\n",
       "           director                                               cast  \\\n",
       "10              NaN                                                NaN   \n",
       "14              NaN                                                NaN   \n",
       "66              NaN                                                NaN   \n",
       "69              NaN                                                NaN   \n",
       "74              NaN                                                NaN   \n",
       "...             ...                                                ...   \n",
       "8755            NaN                                                NaN   \n",
       "8756  Barak Goodman                                                NaN   \n",
       "8763    John Huston                                                NaN   \n",
       "8784            NaN  Eileen Stevens, Alyson Leigh Rosenfeld, Sarah ...   \n",
       "8803            NaN                                                NaN   \n",
       "\n",
       "            country          date_added  release_year rating   duration  \\\n",
       "10              NaN  September 24, 2021          2021  TV-MA   1 Season   \n",
       "14              NaN  September 22, 2021          2021  TV-MA   1 Season   \n",
       "66            India  September 15, 2021          2014   TV-G   1 Season   \n",
       "69            India  September 15, 2021          2015  TV-PG   1 Season   \n",
       "74              NaN  September 14, 2021          2021  TV-PG  2 Seasons   \n",
       "...             ...                 ...           ...    ...        ...   \n",
       "8755  United States    November 1, 2016          2010  TV-14  3 Seasons   \n",
       "8756  United States     August 13, 2019          2019  TV-MA     97 min   \n",
       "8763  United States      March 31, 2017          1943  TV-PG     45 min   \n",
       "8784  Russia, Spain       June 23, 2018          2015   TV-Y     78 min   \n",
       "8803            NaN        July 1, 2019          2018  TV-Y7  2 Seasons   \n",
       "\n",
       "                                              listed_in  \\\n",
       "10    Crime TV Shows, Docuseries, International TV S...   \n",
       "14         British TV Shows, Crime TV Shows, Docuseries   \n",
       "66                   Docuseries, International TV Shows   \n",
       "69                    International TV Shows, TV Dramas   \n",
       "74                                           Reality TV   \n",
       "...                                                 ...   \n",
       "8755                         Crime TV Shows, Docuseries   \n",
       "8756                    Documentaries, Music & Musicals   \n",
       "8763                                      Documentaries   \n",
       "8784                           Children & Family Movies   \n",
       "8803             Kids' TV, Korean TV Shows, TV Comedies   \n",
       "\n",
       "                                            description  \n",
       "10    Sicily boasts a bold \"Anti-Mafia\" coalition. B...  \n",
       "14    Cameras following Bengaluru police on the job ...  \n",
       "66    Explore the history and flavors of regional In...  \n",
       "69    The writings of Nobel Prize winner Rabindranat...  \n",
       "74    With an eye for every budget, three travelers ...  \n",
       "...                                                 ...  \n",
       "8755  This reality series recounts true stories of w...  \n",
       "8756  For the 50th anniversary of the legendary Wood...  \n",
       "8763  Filmmaker John Huston narrates this Oscar-nomi...  \n",
       "8784  Vik meets new friends in a new city, where the...  \n",
       "8803  While living alone in a spooky town, a young g...  \n",
       "\n",
       "[548 rows x 12 columns]"
      ]
     },
     "execution_count": 13,
     "metadata": {},
     "output_type": "execute_result"
    }
   ],
   "source": [
    "#show dups based on show_id\n",
    "df[df[['director','cast']].duplicated()==True]\n"
   ]
  },
  {
   "cell_type": "markdown",
   "id": "fe1c0842",
   "metadata": {
    "papermill": {
     "duration": 0.010626,
     "end_time": "2024-10-22T01:39:05.929643",
     "exception": false,
     "start_time": "2024-10-22T01:39:05.919017",
     "status": "completed"
    },
    "tags": []
   },
   "source": [
    "*  **Find unique records**"
   ]
  },
  {
   "cell_type": "code",
   "execution_count": 14,
   "id": "b2dfbe12",
   "metadata": {
    "execution": {
     "iopub.execute_input": "2024-10-22T01:39:05.953386Z",
     "iopub.status.busy": "2024-10-22T01:39:05.952962Z",
     "iopub.status.idle": "2024-10-22T01:39:05.976804Z",
     "shell.execute_reply": "2024-10-22T01:39:05.975423Z"
    },
    "papermill": {
     "duration": 0.038605,
     "end_time": "2024-10-22T01:39:05.979299",
     "exception": false,
     "start_time": "2024-10-22T01:39:05.940694",
     "status": "completed"
    },
    "tags": []
   },
   "outputs": [
    {
     "data": {
      "text/plain": [
       "show_id         8807\n",
       "type               2\n",
       "title           8807\n",
       "director        4528\n",
       "cast            7692\n",
       "country          748\n",
       "date_added      1767\n",
       "release_year      74\n",
       "rating            17\n",
       "duration         220\n",
       "listed_in        514\n",
       "description     8775\n",
       "dtype: int64"
      ]
     },
     "execution_count": 14,
     "metadata": {},
     "output_type": "execute_result"
    }
   ],
   "source": [
    "#show unique values in dataframe\n",
    "df.nunique()"
   ]
  },
  {
   "cell_type": "markdown",
   "id": "d6d11a1d",
   "metadata": {
    "papermill": {
     "duration": 0.010803,
     "end_time": "2024-10-22T01:39:06.001257",
     "exception": false,
     "start_time": "2024-10-22T01:39:05.990454",
     "status": "completed"
    },
    "tags": []
   },
   "source": [
    "*  **Find null records**"
   ]
  },
  {
   "cell_type": "code",
   "execution_count": 15,
   "id": "17a5c751",
   "metadata": {
    "execution": {
     "iopub.execute_input": "2024-10-22T01:39:06.025118Z",
     "iopub.status.busy": "2024-10-22T01:39:06.024688Z",
     "iopub.status.idle": "2024-10-22T01:39:06.039297Z",
     "shell.execute_reply": "2024-10-22T01:39:06.038256Z"
    },
    "papermill": {
     "duration": 0.0293,
     "end_time": "2024-10-22T01:39:06.041628",
     "exception": false,
     "start_time": "2024-10-22T01:39:06.012328",
     "status": "completed"
    },
    "tags": []
   },
   "outputs": [
    {
     "data": {
      "text/plain": [
       "show_id            0\n",
       "type               0\n",
       "title              0\n",
       "director        2634\n",
       "cast             825\n",
       "country          831\n",
       "date_added        10\n",
       "release_year       0\n",
       "rating             4\n",
       "duration           3\n",
       "listed_in          0\n",
       "description        0\n",
       "dtype: int64"
      ]
     },
     "execution_count": 15,
     "metadata": {},
     "output_type": "execute_result"
    }
   ],
   "source": [
    "#finding null in all the columns\n",
    "df.isnull().sum()"
   ]
  },
  {
   "cell_type": "code",
   "execution_count": 16,
   "id": "ae5433c2",
   "metadata": {
    "execution": {
     "iopub.execute_input": "2024-10-22T01:39:06.065591Z",
     "iopub.status.busy": "2024-10-22T01:39:06.065220Z",
     "iopub.status.idle": "2024-10-22T01:39:06.079626Z",
     "shell.execute_reply": "2024-10-22T01:39:06.078544Z"
    },
    "papermill": {
     "duration": 0.029091,
     "end_time": "2024-10-22T01:39:06.081982",
     "exception": false,
     "start_time": "2024-10-22T01:39:06.052891",
     "status": "completed"
    },
    "tags": []
   },
   "outputs": [
    {
     "data": {
      "text/plain": [
       "show_id            0\n",
       "type               0\n",
       "title              0\n",
       "director        2634\n",
       "cast             825\n",
       "country          831\n",
       "date_added        10\n",
       "release_year       0\n",
       "rating             4\n",
       "duration           3\n",
       "listed_in          0\n",
       "description        0\n",
       "dtype: int64"
      ]
     },
     "execution_count": 16,
     "metadata": {},
     "output_type": "execute_result"
    }
   ],
   "source": [
    "df.isna().sum()"
   ]
  },
  {
   "cell_type": "markdown",
   "id": "f075fd3f",
   "metadata": {
    "papermill": {
     "duration": 0.01153,
     "end_time": "2024-10-22T01:39:06.104933",
     "exception": false,
     "start_time": "2024-10-22T01:39:06.093403",
     "status": "completed"
    },
    "tags": []
   },
   "source": [
    "# **Data Cleansing**"
   ]
  },
  {
   "cell_type": "markdown",
   "id": "8d9eb0a7",
   "metadata": {
    "papermill": {
     "duration": 0.011417,
     "end_time": "2024-10-22T01:39:06.127603",
     "exception": false,
     "start_time": "2024-10-22T01:39:06.116186",
     "status": "completed"
    },
    "tags": []
   },
   "source": [
    "*  **Update all null directors as 'Unknown'**\n",
    "*  **Update all null cast as 'Unknown'**\n",
    "*  **Update all null country as 'Unknown'**"
   ]
  },
  {
   "cell_type": "code",
   "execution_count": 17,
   "id": "77809d54",
   "metadata": {
    "execution": {
     "iopub.execute_input": "2024-10-22T01:39:06.152184Z",
     "iopub.status.busy": "2024-10-22T01:39:06.151725Z",
     "iopub.status.idle": "2024-10-22T01:39:06.156538Z",
     "shell.execute_reply": "2024-10-22T01:39:06.155533Z"
    },
    "papermill": {
     "duration": 0.019874,
     "end_time": "2024-10-22T01:39:06.158865",
     "exception": false,
     "start_time": "2024-10-22T01:39:06.138991",
     "status": "completed"
    },
    "tags": []
   },
   "outputs": [],
   "source": [
    "#df['director']=df['director'].fillna('Unknown')\n",
    "#df['cast']=df['cast'].fillna('Unknown')\n",
    "#df['country']=df['country'].fillna('Unknown')\n",
    "#inplace\n"
   ]
  },
  {
   "cell_type": "markdown",
   "id": "f455d414",
   "metadata": {
    "papermill": {
     "duration": 0.011295,
     "end_time": "2024-10-22T01:39:06.181556",
     "exception": false,
     "start_time": "2024-10-22T01:39:06.170261",
     "status": "completed"
    },
    "tags": []
   },
   "source": []
  },
  {
   "cell_type": "code",
   "execution_count": 18,
   "id": "32b6a71d",
   "metadata": {
    "execution": {
     "iopub.execute_input": "2024-10-22T01:39:06.208152Z",
     "iopub.status.busy": "2024-10-22T01:39:06.207674Z",
     "iopub.status.idle": "2024-10-22T01:39:06.221590Z",
     "shell.execute_reply": "2024-10-22T01:39:06.220259Z"
    },
    "papermill": {
     "duration": 0.029166,
     "end_time": "2024-10-22T01:39:06.223881",
     "exception": false,
     "start_time": "2024-10-22T01:39:06.194715",
     "status": "completed"
    },
    "tags": []
   },
   "outputs": [],
   "source": [
    "df[['director', 'cast', 'country']] =df[['director', 'cast', 'country']].replace(np.nan, \"Unknown \")"
   ]
  },
  {
   "cell_type": "code",
   "execution_count": 19,
   "id": "17ab6667",
   "metadata": {
    "execution": {
     "iopub.execute_input": "2024-10-22T01:39:06.248427Z",
     "iopub.status.busy": "2024-10-22T01:39:06.248031Z",
     "iopub.status.idle": "2024-10-22T01:39:06.263570Z",
     "shell.execute_reply": "2024-10-22T01:39:06.262229Z"
    },
    "papermill": {
     "duration": 0.030911,
     "end_time": "2024-10-22T01:39:06.266233",
     "exception": false,
     "start_time": "2024-10-22T01:39:06.235322",
     "status": "completed"
    },
    "tags": []
   },
   "outputs": [
    {
     "data": {
      "text/plain": [
       "show_id          0\n",
       "type             0\n",
       "title            0\n",
       "director         0\n",
       "cast             0\n",
       "country          0\n",
       "date_added      10\n",
       "release_year     0\n",
       "rating           4\n",
       "duration         3\n",
       "listed_in        0\n",
       "description      0\n",
       "dtype: int64"
      ]
     },
     "execution_count": 19,
     "metadata": {},
     "output_type": "execute_result"
    }
   ],
   "source": [
    "df.isnull().sum()"
   ]
  },
  {
   "cell_type": "markdown",
   "id": "53eb0e13",
   "metadata": {
    "papermill": {
     "duration": 0.011449,
     "end_time": "2024-10-22T01:39:06.289175",
     "exception": false,
     "start_time": "2024-10-22T01:39:06.277726",
     "status": "completed"
    },
    "tags": []
   },
   "source": [
    "**Find minimum date in date_added and replace it where it is null**"
   ]
  },
  {
   "cell_type": "code",
   "execution_count": 20,
   "id": "d7dbea08",
   "metadata": {
    "execution": {
     "iopub.execute_input": "2024-10-22T01:39:06.316044Z",
     "iopub.status.busy": "2024-10-22T01:39:06.315020Z",
     "iopub.status.idle": "2024-10-22T01:39:06.350970Z",
     "shell.execute_reply": "2024-10-22T01:39:06.349537Z"
    },
    "papermill": {
     "duration": 0.052596,
     "end_time": "2024-10-22T01:39:06.353633",
     "exception": false,
     "start_time": "2024-10-22T01:39:06.301037",
     "status": "completed"
    },
    "tags": []
   },
   "outputs": [
    {
     "data": {
      "text/plain": [
       "['show_id',\n",
       " 'type',\n",
       " 'title',\n",
       " 'director',\n",
       " 'cast',\n",
       " 'country',\n",
       " 'date_added',\n",
       " 'release_year',\n",
       " 'rating',\n",
       " 'duration',\n",
       " 'listed_in',\n",
       " 'description']"
      ]
     },
     "execution_count": 20,
     "metadata": {},
     "output_type": "execute_result"
    }
   ],
   "source": [
    "df['date1']=pd.to_datetime(df['date_added'], errors='coerce')\n",
    "earliest_date=df['date1'].min()\n",
    "df['date_added']=df['date_added'].fillna(earliest_date)\n",
    "df.isnull().sum()\n",
    "\n",
    "#drop column date1\n",
    "df=df.drop('date1',axis=1)\n",
    "df.columns.tolist()"
   ]
  },
  {
   "cell_type": "markdown",
   "id": "2ab3b895",
   "metadata": {
    "papermill": {
     "duration": 0.012025,
     "end_time": "2024-10-22T01:39:06.377709",
     "exception": false,
     "start_time": "2024-10-22T01:39:06.365684",
     "status": "completed"
    },
    "tags": []
   },
   "source": [
    "**Find type where rating is null and replace it with most common rating of that type**"
   ]
  },
  {
   "cell_type": "code",
   "execution_count": 21,
   "id": "f330685e",
   "metadata": {
    "execution": {
     "iopub.execute_input": "2024-10-22T01:39:06.404477Z",
     "iopub.status.busy": "2024-10-22T01:39:06.404070Z",
     "iopub.status.idle": "2024-10-22T01:39:06.419381Z",
     "shell.execute_reply": "2024-10-22T01:39:06.418112Z"
    },
    "papermill": {
     "duration": 0.031814,
     "end_time": "2024-10-22T01:39:06.422332",
     "exception": false,
     "start_time": "2024-10-22T01:39:06.390518",
     "status": "completed"
    },
    "tags": []
   },
   "outputs": [],
   "source": [
    "#df1=df\n",
    "avg_movie_rating= df[df['type']=='Movie']['rating'].value_counts().idxmax()\n",
    "#print(avg_movie_rating\n",
    "df.loc[(df['type']==\"Movie\") & df['rating'].isna(),'rating']=avg_movie_rating\n",
    "\n"
   ]
  },
  {
   "cell_type": "code",
   "execution_count": 22,
   "id": "30eeb4ac",
   "metadata": {
    "execution": {
     "iopub.execute_input": "2024-10-22T01:39:06.448192Z",
     "iopub.status.busy": "2024-10-22T01:39:06.447788Z",
     "iopub.status.idle": "2024-10-22T01:39:06.470988Z",
     "shell.execute_reply": "2024-10-22T01:39:06.469883Z"
    },
    "papermill": {
     "duration": 0.038563,
     "end_time": "2024-10-22T01:39:06.473305",
     "exception": false,
     "start_time": "2024-10-22T01:39:06.434742",
     "status": "completed"
    },
    "tags": []
   },
   "outputs": [
    {
     "name": "stdout",
     "output_type": "stream",
     "text": [
      "TV-MA\n"
     ]
    },
    {
     "data": {
      "text/plain": [
       "show_id         0\n",
       "type            0\n",
       "title           0\n",
       "director        0\n",
       "cast            0\n",
       "country         0\n",
       "date_added      0\n",
       "release_year    0\n",
       "rating          0\n",
       "duration        3\n",
       "listed_in       0\n",
       "description     0\n",
       "dtype: int64"
      ]
     },
     "execution_count": 22,
     "metadata": {},
     "output_type": "execute_result"
    }
   ],
   "source": [
    "#df1=df\n",
    "#use of like ???\n",
    "avg_tv_rating= df[df['type']=='TV Show']['rating'].value_counts().idxmax()\n",
    "print(avg_tv_rating)\n",
    "df.loc[(df['type']==\"TV Show\") & df['rating'].isna(),'rating']=avg_tv_rating\n",
    "\n",
    "df.isnull().sum()"
   ]
  },
  {
   "cell_type": "markdown",
   "id": "324b6652",
   "metadata": {
    "papermill": {
     "duration": 0.011434,
     "end_time": "2024-10-22T01:39:06.496608",
     "exception": false,
     "start_time": "2024-10-22T01:39:06.485174",
     "status": "completed"
    },
    "tags": []
   },
   "source": [
    "# **Data Transformation**"
   ]
  },
  {
   "cell_type": "markdown",
   "id": "3d51c600",
   "metadata": {
    "papermill": {
     "duration": 0.011563,
     "end_time": "2024-10-22T01:39:06.520050",
     "exception": false,
     "start_time": "2024-10-22T01:39:06.508487",
     "status": "completed"
    },
    "tags": []
   },
   "source": [
    "**Add new column Main Actor and take the first value from the cast**"
   ]
  },
  {
   "cell_type": "markdown",
   "id": "70ad6767",
   "metadata": {
    "papermill": {
     "duration": 0.011512,
     "end_time": "2024-10-22T01:39:06.543263",
     "exception": false,
     "start_time": "2024-10-22T01:39:06.531751",
     "status": "completed"
    },
    "tags": []
   },
   "source": [
    "**Find total actors in a show**\n",
    "**Find average no of actors in a show**"
   ]
  },
  {
   "cell_type": "markdown",
   "id": "980631e3",
   "metadata": {
    "papermill": {
     "duration": 0.011687,
     "end_time": "2024-10-22T01:39:06.566593",
     "exception": false,
     "start_time": "2024-10-22T01:39:06.554906",
     "status": "completed"
    },
    "tags": []
   },
   "source": [
    "**Add a new column and populate with Year from date_added**"
   ]
  },
  {
   "cell_type": "markdown",
   "id": "3d453c9f",
   "metadata": {
    "papermill": {
     "duration": 0.011367,
     "end_time": "2024-10-22T01:39:06.589700",
     "exception": false,
     "start_time": "2024-10-22T01:39:06.578333",
     "status": "completed"
    },
    "tags": []
   },
   "source": [
    "**Divide the data in two files based on type of show** \n",
    "For the movies, transform the duration columns - capture the minutes but remove the word 'mins' \n",
    "For the tv show file, rename duration to season and remove words 'Seasons'  "
   ]
  },
  {
   "cell_type": "markdown",
   "id": "f40c742f",
   "metadata": {
    "papermill": {
     "duration": 0.011467,
     "end_time": "2024-10-22T01:39:06.612859",
     "exception": false,
     "start_time": "2024-10-22T01:39:06.601392",
     "status": "completed"
    },
    "tags": []
   },
   "source": [
    "**Create a new files actors  and countries (along with ids) and delimit and extract all the actors and counteries in rows format respectively**"
   ]
  },
  {
   "cell_type": "markdown",
   "id": "dbc9adc9",
   "metadata": {
    "papermill": {
     "duration": 0.01133,
     "end_time": "2024-10-22T01:39:06.635979",
     "exception": false,
     "start_time": "2024-10-22T01:39:06.624649",
     "status": "completed"
    },
    "tags": []
   },
   "source": [
    "**Do text parsing to find all the war or fight based movies or tv shows - fight, battle, army, war, military, army**"
   ]
  },
  {
   "cell_type": "markdown",
   "id": "4f62cad4",
   "metadata": {
    "papermill": {
     "duration": 0.011538,
     "end_time": "2024-10-22T01:39:06.659012",
     "exception": false,
     "start_time": "2024-10-22T01:39:06.647474",
     "status": "completed"
    },
    "tags": []
   },
   "source": [
    "# **Data Analysis**\n",
    "\n",
    "**What's the common content produced in USA in last decade**"
   ]
  },
  {
   "cell_type": "markdown",
   "id": "03621662",
   "metadata": {
    "papermill": {
     "duration": 0.01128,
     "end_time": "2024-10-22T01:39:06.682121",
     "exception": false,
     "start_time": "2024-10-22T01:39:06.670841",
     "status": "completed"
    },
    "tags": []
   },
   "source": [
    "**What are some top 10 Stand up comedy shows released within last 5 years**"
   ]
  },
  {
   "cell_type": "markdown",
   "id": "7a02f6c8",
   "metadata": {
    "papermill": {
     "duration": 0.011343,
     "end_time": "2024-10-22T01:39:06.705133",
     "exception": false,
     "start_time": "2024-10-22T01:39:06.693790",
     "status": "completed"
    },
    "tags": []
   },
   "source": [
    "**What is the average age of the content on Netflix**"
   ]
  },
  {
   "cell_type": "markdown",
   "id": "beb08299",
   "metadata": {
    "papermill": {
     "duration": 0.011428,
     "end_time": "2024-10-22T01:39:06.728582",
     "exception": false,
     "start_time": "2024-10-22T01:39:06.717154",
     "status": "completed"
    },
    "tags": []
   },
   "source": [
    "**When are most shows and movies added**"
   ]
  },
  {
   "cell_type": "markdown",
   "id": "83d66252",
   "metadata": {
    "papermill": {
     "duration": 0.011442,
     "end_time": "2024-10-22T01:39:06.751845",
     "exception": false,
     "start_time": "2024-10-22T01:39:06.740403",
     "status": "completed"
    },
    "tags": []
   },
   "source": [
    "**How many foregin classic Movies and Shows are there on Netflix**"
   ]
  }
 ],
 "metadata": {
  "kaggle": {
   "accelerator": "none",
   "dataSources": [
    {
     "datasetId": 434238,
     "sourceId": 2654038,
     "sourceType": "datasetVersion"
    }
   ],
   "dockerImageVersionId": 30786,
   "isGpuEnabled": false,
   "isInternetEnabled": false,
   "language": "python",
   "sourceType": "notebook"
  },
  "kernelspec": {
   "display_name": "Python 3",
   "language": "python",
   "name": "python3"
  },
  "language_info": {
   "codemirror_mode": {
    "name": "ipython",
    "version": 3
   },
   "file_extension": ".py",
   "mimetype": "text/x-python",
   "name": "python",
   "nbconvert_exporter": "python",
   "pygments_lexer": "ipython3",
   "version": "3.10.14"
  },
  "papermill": {
   "default_parameters": {},
   "duration": 7.758599,
   "end_time": "2024-10-22T01:39:07.386270",
   "environment_variables": {},
   "exception": null,
   "input_path": "__notebook__.ipynb",
   "output_path": "__notebook__.ipynb",
   "parameters": {},
   "start_time": "2024-10-22T01:38:59.627671",
   "version": "2.6.0"
  }
 },
 "nbformat": 4,
 "nbformat_minor": 5
}
